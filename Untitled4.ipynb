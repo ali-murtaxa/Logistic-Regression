{
  "nbformat": 4,
  "nbformat_minor": 0,
  "metadata": {
    "colab": {
      "name": "Untitled4.ipynb",
      "provenance": [],
      "collapsed_sections": [],
      "authorship_tag": "ABX9TyO0255N+x13dnMd97e33U7E",
      "include_colab_link": true
    },
    "kernelspec": {
      "name": "python3",
      "display_name": "Python 3"
    }
  },
  "cells": [
    {
      "cell_type": "markdown",
      "metadata": {
        "id": "view-in-github",
        "colab_type": "text"
      },
      "source": [
        "<a href=\"https://colab.research.google.com/github/ali-murtaxa/Logistic-Regression/blob/master/Untitled4.ipynb\" target=\"_parent\"><img src=\"https://colab.research.google.com/assets/colab-badge.svg\" alt=\"Open In Colab\"/></a>"
      ]
    },
    {
      "cell_type": "code",
      "metadata": {
        "id": "9QkH3ocLN0iY",
        "colab_type": "code",
        "colab": {}
      },
      "source": [
        "# import the dependencies\n",
        "import pandas as pd\n",
        "import matplotlib.pyplot as plt\n",
        "import seaborn as sns\n",
        "from sklearn.linear_model import LogisticRegression\n",
        "from sklearn.metrics import classification_report\n",
        "from sklearn.metrics import accuracy_score\n",
        "from sklearn.model_selection import train_test_split"
      ],
      "execution_count": 19,
      "outputs": []
    },
    {
      "cell_type": "code",
      "metadata": {
        "id": "-Ou7aNPQPUXa",
        "colab_type": "code",
        "colab": {
          "base_uri": "https://localhost:8080/",
          "height": 204
        },
        "outputId": "afdd312e-6453-4fc1-d52c-a072ac906ee8"
      },
      "source": [
        "# Load the dataset\n",
        "data = pd.read_csv(\"Iris.csv\")\n",
        "data.head()"
      ],
      "execution_count": 20,
      "outputs": [
        {
          "output_type": "execute_result",
          "data": {
            "text/html": [
              "<div>\n",
              "<style scoped>\n",
              "    .dataframe tbody tr th:only-of-type {\n",
              "        vertical-align: middle;\n",
              "    }\n",
              "\n",
              "    .dataframe tbody tr th {\n",
              "        vertical-align: top;\n",
              "    }\n",
              "\n",
              "    .dataframe thead th {\n",
              "        text-align: right;\n",
              "    }\n",
              "</style>\n",
              "<table border=\"1\" class=\"dataframe\">\n",
              "  <thead>\n",
              "    <tr style=\"text-align: right;\">\n",
              "      <th></th>\n",
              "      <th>Id</th>\n",
              "      <th>SepalLengthCm</th>\n",
              "      <th>SepalWidthCm</th>\n",
              "      <th>PetalLengthCm</th>\n",
              "      <th>PetalWidthCm</th>\n",
              "      <th>Species</th>\n",
              "    </tr>\n",
              "  </thead>\n",
              "  <tbody>\n",
              "    <tr>\n",
              "      <th>0</th>\n",
              "      <td>1</td>\n",
              "      <td>5.1</td>\n",
              "      <td>3.5</td>\n",
              "      <td>1.4</td>\n",
              "      <td>0.2</td>\n",
              "      <td>Iris-setosa</td>\n",
              "    </tr>\n",
              "    <tr>\n",
              "      <th>1</th>\n",
              "      <td>2</td>\n",
              "      <td>4.9</td>\n",
              "      <td>3.0</td>\n",
              "      <td>1.4</td>\n",
              "      <td>0.2</td>\n",
              "      <td>Iris-setosa</td>\n",
              "    </tr>\n",
              "    <tr>\n",
              "      <th>2</th>\n",
              "      <td>3</td>\n",
              "      <td>4.7</td>\n",
              "      <td>3.2</td>\n",
              "      <td>1.3</td>\n",
              "      <td>0.2</td>\n",
              "      <td>Iris-setosa</td>\n",
              "    </tr>\n",
              "    <tr>\n",
              "      <th>3</th>\n",
              "      <td>4</td>\n",
              "      <td>4.6</td>\n",
              "      <td>3.1</td>\n",
              "      <td>1.5</td>\n",
              "      <td>0.2</td>\n",
              "      <td>Iris-setosa</td>\n",
              "    </tr>\n",
              "    <tr>\n",
              "      <th>4</th>\n",
              "      <td>5</td>\n",
              "      <td>5.0</td>\n",
              "      <td>3.6</td>\n",
              "      <td>1.4</td>\n",
              "      <td>0.2</td>\n",
              "      <td>Iris-setosa</td>\n",
              "    </tr>\n",
              "  </tbody>\n",
              "</table>\n",
              "</div>"
            ],
            "text/plain": [
              "   Id  SepalLengthCm  SepalWidthCm  PetalLengthCm  PetalWidthCm      Species\n",
              "0   1            5.1           3.5            1.4           0.2  Iris-setosa\n",
              "1   2            4.9           3.0            1.4           0.2  Iris-setosa\n",
              "2   3            4.7           3.2            1.3           0.2  Iris-setosa\n",
              "3   4            4.6           3.1            1.5           0.2  Iris-setosa\n",
              "4   5            5.0           3.6            1.4           0.2  Iris-setosa"
            ]
          },
          "metadata": {
            "tags": []
          },
          "execution_count": 20
        }
      ]
    },
    {
      "cell_type": "code",
      "metadata": {
        "id": "61NpeLgrSN80",
        "colab_type": "code",
        "colab": {}
      },
      "source": [
        "#prepare the training set\n",
        "X = data.iloc[:, :1]\n",
        "\n",
        "Y = data.iloc[:, :1]"
      ],
      "execution_count": 21,
      "outputs": []
    },
    {
      "cell_type": "code",
      "metadata": {
        "id": "aCoqENuWTR2B",
        "colab_type": "code",
        "colab": {
          "base_uri": "https://localhost:8080/",
          "height": 279
        },
        "outputId": "458c22b1-72e3-405b-ac90-ef2e62969ddd"
      },
      "source": [
        "# plot the relation of each feature with each species\n",
        "plt.xlabel('Features')\n",
        "plt.ylabel('species')\n",
        "\n",
        "pltX = data.loc[:, 'SepalLengthCm']\n",
        "pltY = data.loc[:, 'Species']\n",
        "plt.scatter(pltX, pltY, color='blue', Label='SepalLengthCm')\n",
        "\n",
        "pltX = data.loc[:, 'SepalWidthCm']\n",
        "pltY = data.loc[:, 'Species']\n",
        "plt.scatter(pltX, pltY, color='red', Label='SepalWidthCm')\n",
        "\n",
        "pltX = data.loc[:, 'PetalLengthCm']\n",
        "pltY = data.loc[:, 'Species']\n",
        "plt.scatter(pltX, pltY, color='green', Label='PetalLengthCm')\n",
        "\n",
        "pltX = data.loc[:, 'PetalWidthCm']\n",
        "pltY = data.loc[:, 'Species']\n",
        "plt.scatter(pltX, pltY, color='orange', Label='PetalWidthCm')\n",
        "\n",
        "plt.legend(loc=4, prop={'size':8})\n",
        "plt.show()"
      ],
      "execution_count": 22,
      "outputs": [
        {
          "output_type": "display_data",
          "data": {
            "image/png": "[encoded data removed]",
            "text/plain": [
              "<Figure size 432x288 with 1 Axes>"
            ]
          },
          "metadata": {
            "tags": [],
            "needs_background": "light"
          }
        }
      ]
    },
    {
      "cell_type": "code",
      "metadata": {
        "id": "Qt47Jo_afMqg",
        "colab_type": "code",
        "colab": {}
      },
      "source": [
        "# splitting data into test and train data\n",
        "\n",
        "x_train, x_test, y_train, y_test = train_test_split(X, Y, test_size=0.2, random_state=42)"
      ],
      "execution_count": 26,
      "outputs": []
    },
    {
      "cell_type": "code",
      "metadata": {
        "id": "LVSmSCiwf9co",
        "colab_type": "code",
        "colab": {}
      },
      "source": [
        "# train the model\n",
        "\n",
        "model = LogisticRegression()\n",
        "model.fit(x_train, y_train) #training the model"
      ],
      "execution_count": null,
      "outputs": []
    },
    {
      "cell_type": "code",
      "metadata": {
        "id": "6p_EJhoaR6AF",
        "colab_type": "code",
        "colab": {
          "base_uri": "https://localhost:8080/",
          "height": 578
        },
        "outputId": "23cdceaa-2ca8-49e4-c10c-2050bae1834d"
      },
      "source": [
        "# test the model\n",
        "\n",
        "predictions = model.predict(x_test)\n",
        "print(predictions)\n",
        "\n",
        "print(y_test)"
      ],
      "execution_count": 29,
      "outputs": [
        {
          "output_type": "stream",
          "text": [
            "[ 96  12 150 118  99  12  12 150  12 143 150  12  12   3  12  12 150  87\n",
            "  12 150  12 150  12 150 150 150 150 150  12  12]\n",
            "      Id\n",
            "73    74\n",
            "18    19\n",
            "118  119\n",
            "78    79\n",
            "76    77\n",
            "31    32\n",
            "64    65\n",
            "141  142\n",
            "68    69\n",
            "82    83\n",
            "110  111\n",
            "12    13\n",
            "36    37\n",
            "9     10\n",
            "19    20\n",
            "56    57\n",
            "104  105\n",
            "69    70\n",
            "55    56\n",
            "132  133\n",
            "29    30\n",
            "127  128\n",
            "26    27\n",
            "128  129\n",
            "131  132\n",
            "145  146\n",
            "108  109\n",
            "143  144\n",
            "45    46\n",
            "30    31\n"
          ],
          "name": "stdout"
        }
      ]
    },
    {
      "cell_type": "code",
      "metadata": {
        "id": "a4MFZFabSsK4",
        "colab_type": "code",
        "colab": {
          "base_uri": "https://localhost:8080/",
          "height": 870
        },
        "outputId": "5f06289b-f5fa-4916-8838-4f5a0b895858"
      },
      "source": [
        "print( classification_report(y_test, predictions) )"
      ],
      "execution_count": 30,
      "outputs": [
        {
          "output_type": "stream",
          "text": [
            "              precision    recall  f1-score   support\n",
            "\n",
            "           3       0.00      0.00      0.00       0.0\n",
            "          10       0.00      0.00      0.00       1.0\n",
            "          12       0.00      0.00      0.00       0.0\n",
            "          13       0.00      0.00      0.00       1.0\n",
            "          19       0.00      0.00      0.00       1.0\n",
            "          20       0.00      0.00      0.00       1.0\n",
            "          27       0.00      0.00      0.00       1.0\n",
            "          30       0.00      0.00      0.00       1.0\n",
            "          31       0.00      0.00      0.00       1.0\n",
            "          32       0.00      0.00      0.00       1.0\n",
            "          37       0.00      0.00      0.00       1.0\n",
            "          46       0.00      0.00      0.00       1.0\n",
            "          56       0.00      0.00      0.00       1.0\n",
            "          57       0.00      0.00      0.00       1.0\n",
            "          65       0.00      0.00      0.00       1.0\n",
            "          69       0.00      0.00      0.00       1.0\n",
            "          70       0.00      0.00      0.00       1.0\n",
            "          74       0.00      0.00      0.00       1.0\n",
            "          77       0.00      0.00      0.00       1.0\n",
            "          79       0.00      0.00      0.00       1.0\n",
            "          83       0.00      0.00      0.00       1.0\n",
            "          87       0.00      0.00      0.00       0.0\n",
            "          96       0.00      0.00      0.00       0.0\n",
            "          99       0.00      0.00      0.00       0.0\n",
            "         105       0.00      0.00      0.00       1.0\n",
            "         109       0.00      0.00      0.00       1.0\n",
            "         111       0.00      0.00      0.00       1.0\n",
            "         118       0.00      0.00      0.00       0.0\n",
            "         119       0.00      0.00      0.00       1.0\n",
            "         128       0.00      0.00      0.00       1.0\n",
            "         129       0.00      0.00      0.00       1.0\n",
            "         132       0.00      0.00      0.00       1.0\n",
            "         133       0.00      0.00      0.00       1.0\n",
            "         142       0.00      0.00      0.00       1.0\n",
            "         143       0.00      0.00      0.00       0.0\n",
            "         144       0.00      0.00      0.00       1.0\n",
            "         146       0.00      0.00      0.00       1.0\n",
            "         150       0.00      0.00      0.00       0.0\n",
            "\n",
            "    accuracy                           0.00      30.0\n",
            "   macro avg       0.00      0.00      0.00      30.0\n",
            "weighted avg       0.00      0.00      0.00      30.0\n",
            "\n"
          ],
          "name": "stdout"
        },
        {
          "output_type": "stream",
          "text": [
            "/usr/local/lib/python3.6/dist-packages/sklearn/metrics/_classification.py:1272: UndefinedMetricWarning: Precision and F-score are ill-defined and being set to 0.0 in labels with no predicted samples. Use `zero_division` parameter to control this behavior.\n",
            "  _warn_prf(average, modifier, msg_start, len(result))\n",
            "/usr/local/lib/python3.6/dist-packages/sklearn/metrics/_classification.py:1272: UndefinedMetricWarning: Recall and F-score are ill-defined and being set to 0.0 in labels with no true samples. Use `zero_division` parameter to control this behavior.\n",
            "  _warn_prf(average, modifier, msg_start, len(result))\n"
          ],
          "name": "stderr"
        }
      ]
    }
  ]
}